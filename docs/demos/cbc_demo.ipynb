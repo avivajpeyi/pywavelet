{
 "cells": [
  {
   "cell_type": "markdown",
   "source": [
    "# CBC Waveform in wavelet domain"
   ],
   "metadata": {
    "collapsed": false
   },
   "id": "20b84535761ebd8a"
  },
  {
   "cell_type": "code",
   "execution_count": null,
   "outputs": [],
   "source": [
    "import numpy as np\n",
    "from scipy.signal.windows import tukey\n",
    "import matplotlib.pyplot as plt\n",
    "from scipy.signal import chirp, spectrogram\n",
    "from pycbc.waveform import get_td_waveform\n",
    "from pycbc.conversions import mass1_from_mchirp_q, mass2_from_mchirp_q\n",
    "from pywavelet.waveform_generator.generators import FunctionalWaveformGenerator  \n",
    "\n",
    "\n",
    "def cbc_waveform(mc, q=1, delta_t=1.0 / 4096, f_lower=20):\n",
    "    m1 = mass1_from_mchirp_q(mc, q)\n",
    "    m2 = mass2_from_mchirp_q(mc, q)\n",
    "    hp, hc = get_td_waveform(\n",
    "        approximant=\"IMRPhenomD\",\n",
    "        mass1=m1,\n",
    "        mass2=m2,\n",
    "        delta_t=delta_t,\n",
    "        f_lower=f_lower,\n",
    "\n",
    "    )\n",
    "    return hp.sample_times, hp.data\n",
    "\n",
    "\n",
    "def plot_wavelet_domain_signal(wavelet_data, time_grid, freq_grid, freq_range):\n",
    "    fig = plt.figure()\n",
    "    plt.imshow(\n",
    "        np.abs(np.rot90(wavelet_data)),\n",
    "        aspect=\"auto\",\n",
    "        extent=[time_grid[0], time_grid[-1], freq_grid[0], freq_grid[-1]],\n",
    "    )\n",
    "    cbar = plt.colorbar()\n",
    "    cbar.set_label(\"Wavelet Amplitude\")\n",
    "    plt.xlabel(\"Time (s)\")\n",
    "    plt.ylabel(\"Frequency (Hz)\")\n",
    "    plt.ylim(*freq_range)\n",
    "    plt.tight_layout()\n",
    "    return fig\n",
    "\n",
    "def create_cbc_wavelet_waveform_generator():\n",
    "    Nf, Nt = 64, 64\n",
    "    mult = 16\n",
    "    ND = Nf * Nt\n",
    "    dt = 1 / 256\n",
    "    fmin = 20\n",
    "    h_func = lambda mc: cbc_waveform(mc, q=1, delta_t=dt, f_lower=20)[1]\n",
    "    t_vals = cbc_waveform(15, q=1, delta_t=dt, f_lower=fmin)[0]\n",
    "    assert len(t_vals) == ND\n",
    "    dt = t_vals[1] - t_vals[0]\n",
    "    Tobs = max(t_vals)\n",
    "    f_vals = np.arange(0, ND // 2 + 1) * 1 / Tobs\n",
    "    waveform_generator = FunctionalWaveformGenerator(h_func, Nf=Nf, Nt=Nt, mult=mult)\n",
    "    return waveform_generator, t_vals, f_vals\n",
    "\n",
    "wavelet_generator, ts, fs = create_cbc_wavelet_waveform_generator()\n",
    "for i, mc in enumerate(range(15, 50, 5)):\n",
    "    wavelet_matrix = wavelet_generator(mc=mc)\n",
    "    fig = plot_wavelet_domain_signal(wavelet_matrix, ts, fs, (0, 64))\n",
    "    fig.suptitle(f\"mc={mc}\")\n",
    "    fig.show()"
   ],
   "metadata": {
    "collapsed": false,
    "is_executing": true
   },
   "id": "6921bd0e7713503b"
  },
  {
   "cell_type": "code",
   "execution_count": null,
   "outputs": [],
   "source": [],
   "metadata": {
    "collapsed": false
   },
   "id": "b0cb3ec5a68cfda5"
  }
 ],
 "metadata": {
  "kernelspec": {
   "display_name": "Python 3",
   "language": "python",
   "name": "python3"
  },
  "language_info": {
   "codemirror_mode": {
    "name": "ipython",
    "version": 2
   },
   "file_extension": ".py",
   "mimetype": "text/x-python",
   "name": "python",
   "nbconvert_exporter": "python",
   "pygments_lexer": "ipython2",
   "version": "2.7.6"
  }
 },
 "nbformat": 4,
 "nbformat_minor": 5
}
